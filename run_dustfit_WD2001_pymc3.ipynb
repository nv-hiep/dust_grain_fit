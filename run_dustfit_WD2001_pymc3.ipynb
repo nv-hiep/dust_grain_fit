{
  "nbformat": 4,
  "nbformat_minor": 0,
  "metadata": {
    "colab": {
      "name": "run_dustfit_WD2001_pymc3.ipynb",
      "provenance": [],
      "collapsed_sections": [],
      "include_colab_link": true
    },
    "kernelspec": {
      "display_name": "Python 3",
      "language": "python",
      "name": "python3"
    },
    "language_info": {
      "codemirror_mode": {
        "name": "ipython",
        "version": 3
      },
      "file_extension": ".py",
      "mimetype": "text/x-python",
      "name": "python",
      "nbconvert_exporter": "python",
      "pygments_lexer": "ipython3",
      "version": "3.8.5"
    }
  },
  "cells": [
    {
      "cell_type": "markdown",
      "metadata": {
        "id": "view-in-github",
        "colab_type": "text"
      },
      "source": [
        "<a href=\"https://colab.research.google.com/github/nv-hiep/dust_grain_fit/blob/main/run_dustfit_WD2001_pymc3.ipynb\" target=\"_parent\"><img src=\"https://colab.research.google.com/assets/colab-badge.svg\" alt=\"Open In Colab\"/></a>"
      ]
    },
    {
      "cell_type": "markdown",
      "metadata": {
        "id": "QHUXX7K9Y3b8"
      },
      "source": [
        "# **Dust Grain Fit using pymc3 (MW)**"
      ]
    },
    {
      "cell_type": "markdown",
      "metadata": {
        "id": "MX_6z0f0XOz5"
      },
      "source": [
        "# 1. Mount the google drive"
      ]
    },
    {
      "cell_type": "code",
      "metadata": {
        "colab": {
          "base_uri": "https://localhost:8080/"
        },
        "id": "PjjcQSpya_FR",
        "outputId": "19654224-eeb6-49de-8464-ef5ddde46cf8"
      },
      "source": [
        "from google.colab import drive\n",
        "drive.mount('/content/gdrive')\n",
        "# !ls"
      ],
      "execution_count": 26,
      "outputs": [
        {
          "output_type": "stream",
          "text": [
            "Drive already mounted at /content/gdrive; to attempt to forcibly remount, call drive.mount(\"/content/gdrive\", force_remount=True).\n"
          ],
          "name": "stdout"
        }
      ]
    },
    {
      "cell_type": "code",
      "metadata": {
        "colab": {
          "base_uri": "https://localhost:8080/"
        },
        "id": "cLARM5NI7D9k",
        "outputId": "efddc3d6-f9d1-463d-8b8a-b3b64db51ab4"
      },
      "source": [
        "!pip3 install uncertainties"
      ],
      "execution_count": 27,
      "outputs": [
        {
          "output_type": "stream",
          "text": [
            "Requirement already satisfied: uncertainties in /usr/local/lib/python3.6/dist-packages (3.1.5)\n",
            "Requirement already satisfied: future in /usr/local/lib/python3.6/dist-packages (from uncertainties) (0.16.0)\n"
          ],
          "name": "stdout"
        }
      ]
    },
    {
      "cell_type": "code",
      "metadata": {
        "colab": {
          "base_uri": "https://localhost:8080/"
        },
        "id": "eHCl0Eyh7lut",
        "outputId": "5f5fc37a-ec67-4e6a-d08a-52021252bcbb"
      },
      "source": [
        "!pip3 install emcee"
      ],
      "execution_count": 28,
      "outputs": [
        {
          "output_type": "stream",
          "text": [
            "Requirement already satisfied: emcee in /usr/local/lib/python3.6/dist-packages (3.0.2)\n",
            "Requirement already satisfied: numpy in /usr/local/lib/python3.6/dist-packages (from emcee) (1.19.4)\n"
          ],
          "name": "stdout"
        }
      ]
    },
    {
      "cell_type": "code",
      "metadata": {
        "colab": {
          "base_uri": "https://localhost:8080/"
        },
        "id": "psKRNrTf7sWx",
        "outputId": "9cb42184-18be-4189-fa1b-37299f01884e"
      },
      "source": [
        "!pip3 install corner"
      ],
      "execution_count": 29,
      "outputs": [
        {
          "output_type": "stream",
          "text": [
            "Requirement already satisfied: corner in /usr/local/lib/python3.6/dist-packages (2.1.0)\n",
            "Requirement already satisfied: setuptools>=40.6.0 in /usr/local/lib/python3.6/dist-packages (from corner) (51.0.0)\n",
            "Requirement already satisfied: setuptools-scm in /usr/local/lib/python3.6/dist-packages (from corner) (5.0.1)\n",
            "Requirement already satisfied: wheel in /usr/local/lib/python3.6/dist-packages (from corner) (0.36.2)\n",
            "Requirement already satisfied: matplotlib>=2.1 in /usr/local/lib/python3.6/dist-packages (from corner) (3.2.2)\n",
            "Requirement already satisfied: cycler>=0.10 in /usr/local/lib/python3.6/dist-packages (from matplotlib>=2.1->corner) (0.10.0)\n",
            "Requirement already satisfied: python-dateutil>=2.1 in /usr/local/lib/python3.6/dist-packages (from matplotlib>=2.1->corner) (2.8.1)\n",
            "Requirement already satisfied: kiwisolver>=1.0.1 in /usr/local/lib/python3.6/dist-packages (from matplotlib>=2.1->corner) (1.3.1)\n",
            "Requirement already satisfied: numpy>=1.11 in /usr/local/lib/python3.6/dist-packages (from matplotlib>=2.1->corner) (1.19.4)\n",
            "Requirement already satisfied: pyparsing!=2.0.4,!=2.1.2,!=2.1.6,>=2.0.1 in /usr/local/lib/python3.6/dist-packages (from matplotlib>=2.1->corner) (2.4.7)\n",
            "Requirement already satisfied: six in /usr/local/lib/python3.6/dist-packages (from cycler>=0.10->matplotlib>=2.1->corner) (1.15.0)\n"
          ],
          "name": "stdout"
        }
      ]
    },
    {
      "cell_type": "markdown",
      "metadata": {
        "id": "FgfeZe4ivlpb"
      },
      "source": [
        "# 2. Root directory"
      ]
    },
    {
      "cell_type": "code",
      "metadata": {
        "colab": {
          "base_uri": "https://localhost:8080/"
        },
        "id": "kQMxb4XjWxAA",
        "outputId": "8b80b897-293a-4a1a-af49-9d7af10f821e"
      },
      "source": [
        "cd '/content/gdrive/My Drive/Colab Notebooks/dustfit'"
      ],
      "execution_count": 30,
      "outputs": [
        {
          "output_type": "stream",
          "text": [
            "/content/gdrive/My Drive/Colab Notebooks/dustfit\n"
          ],
          "name": "stdout"
        }
      ]
    },
    {
      "cell_type": "markdown",
      "metadata": {
        "id": "BDJptlLBvSlN"
      },
      "source": [
        "# 3. Import Libraries\n",
        "\n"
      ]
    },
    {
      "cell_type": "code",
      "metadata": {
        "id": "FEQ0k2g3WWwk"
      },
      "source": [
        "#!/usr/bin/env python\n",
        "from __future__ import print_function\n",
        "\n",
        "import os\n",
        "import sys\n",
        "import time\n",
        "\n",
        "import numpy             as np\n",
        "import matplotlib.pyplot as pyplot\n",
        "\n",
        "import matplotlib\n",
        "from matplotlib.ticker import ScalarFormatter\n",
        "\n",
        "import pymc3   as pm\n",
        "\n",
        "import theano\n",
        "import theano.tensor as tt\n",
        "\n",
        "import pandas as pd\n",
        "# import pymc3 as pm\n",
        "# from pymc3.backends.base import MultiTrace\n",
        "# import theano.tensor as tt\n",
        "import uncertainties.unumpy as unp\n",
        "\n",
        "import emcee\n",
        "import corner\n",
        "\n",
        "from astropy.io     import fits\n",
        "\n",
        "from libs.dustmodel import DustModel, MRN77, WD01\n",
        "from libs.dustdata  import DustData"
      ],
      "execution_count": 31,
      "outputs": []
    },
    {
      "cell_type": "markdown",
      "metadata": {
        "id": "lj52GvdETSgB"
      },
      "source": [
        "## 4. Data"
      ]
    },
    {
      "cell_type": "code",
      "metadata": {
        "colab": {
          "base_uri": "https://localhost:8080/"
        },
        "id": "nuL4xaXs7770",
        "outputId": "0d9681bb-fc21-423a-802c-e48702b03065"
      },
      "source": [
        "# Path to the data\n",
        "root_path = os.getcwd()\n",
        "print(os.getcwd())\n",
        "print(os.path.dirname(os.path.realpath('__file__')))"
      ],
      "execution_count": 32,
      "outputs": [
        {
          "output_type": "stream",
          "text": [
            "/content/gdrive/My Drive/Colab Notebooks/dustfit\n",
            "/content/gdrive/My Drive/Colab Notebooks/dustfit\n"
          ],
          "name": "stdout"
        }
      ]
    },
    {
      "cell_type": "code",
      "metadata": {
        "colab": {
          "base_uri": "https://localhost:8080/"
        },
        "id": "zuUxdYnE8K12",
        "outputId": "5994e096-e4f7-46aa-ba6e-ae83cf880347"
      },
      "source": [
        "# Pymc3 params for the fit\n",
        "sel_step     = 5\n",
        "sizedisttype = 'WD'\n",
        "gal          = 'MW'\n",
        "\n",
        "# set the prefix_filename of the output\n",
        "prefile = os.path.join(root_path, 'results', sizedisttype) # eg: path.. results/test_MRN\n",
        "\n",
        "print('The prefix_filename of the output file: ', prefile)\n",
        "\n",
        "\n",
        "# Path to data\n",
        "path = os.path.join(root_path, 'data', gal)"
      ],
      "execution_count": 33,
      "outputs": [
        {
          "output_type": "stream",
          "text": [
            "The prefix_filename of the output file:  /content/gdrive/My Drive/Colab Notebooks/dustfit/results/WD\n"
          ],
          "name": "stdout"
        }
      ]
    },
    {
      "cell_type": "code",
      "metadata": {
        "id": "v_y5CSPC8oWl"
      },
      "source": [
        "# Read observed data \n",
        "obsdata = DustData(path,\n",
        "                    abundance  = True,\n",
        "                    extinction = True,\n",
        "                    emission   = True,\n",
        "                    scattering = True,\n",
        "                    ISRF       = True,\n",
        "                    ext_tags   = ['band', 'iue', 'fuse'] )"
      ],
      "execution_count": 34,
      "outputs": []
    },
    {
      "cell_type": "code",
      "metadata": {
        "id": "Z_79oxqsPwNM"
      },
      "source": [
        "def get_arr_obsdata(obsdata):\n",
        "    \n",
        "    # extinction\n",
        "    yobs      = obsdata.ext_AlNHI\n",
        "    yerr      = obsdata.ext_AlNHI_err\n",
        "\n",
        "    # Abundances\n",
        "    atomabund_y    = []\n",
        "    atomabund_yerr = []\n",
        "    for atomname, atomval in obsdata.abundance.items():\n",
        "        atomabund_y.append( obsdata.abundance[atomname][0] )\n",
        "        atomabund_yerr.append( obsdata.abundance[atomname][1] )\n",
        "\n",
        "    atomabund_y    = np.array(atomabund_y)\n",
        "    atomabund_yerr = np.array(atomabund_yerr)\n",
        "\n",
        "    yobs           = np.concatenate( [yobs, atomabund_y] )\n",
        "    yerr           = np.concatenate( [yerr, atomabund_yerr] )\n",
        "\n",
        "    # Emission\n",
        "    yobs           = np.concatenate( [yobs, obsdata.spec_] )\n",
        "    yerr           = np.concatenate( [yerr, obsdata.spec_err] )\n",
        "\n",
        "    # Albedo\n",
        "    yobs           = np.concatenate( [yobs, obsdata.scat_albedo] )\n",
        "    yerr           = np.concatenate( [yerr, obsdata.scat_albedo_err] )\n",
        "\n",
        "    # g=cos(theta)\n",
        "    yobs           = np.concatenate( [yobs, obsdata.scat_g] )\n",
        "    yerr           = np.concatenate( [yerr, obsdata.scat_g_err] )\n",
        "\n",
        "    return (yobs, yerr)"
      ],
      "execution_count": 35,
      "outputs": []
    },
    {
      "cell_type": "code",
      "metadata": {
        "id": "jc2KHn0dADhR"
      },
      "source": [
        "# Grain components\n",
        "grain_types = ['silicates','carbonaceous']\n",
        "\n",
        "\n",
        "# # min and max grain radii for MRN distribution\n",
        "# AMIN     = 0.005   # micron\n",
        "# AMAX     = 0.3     # micron\n",
        "if sizedisttype == 'MRN':\n",
        "    \n",
        "    # define the fitting model\n",
        "    dustmodel = MRN77(componentnames=grain_types, path=root_path, from_obs=True, sel_step=sel_step)\n",
        "\n",
        "    p0 = []\n",
        "    pnames = []\n",
        "    for k, component in enumerate(dustmodel.components):\n",
        "        cparams = dustmodel.parameters[component.name]\n",
        "        p0     += [cparams['C'], cparams['p'], cparams['amin'], cparams['amax']]\n",
        "        pnames += [ 'C'+str(k), 'p'+str(k), 'amin'+str(k), 'amax'+str(k) ]\n",
        "\n",
        "    # need to set dust model size distribution\n",
        "    # sizedist = A*a^-alpha, A = params['C'] : Amplitude\n",
        "    dustmodel.set_size_dist(p0)\n",
        "\n",
        "\n",
        "\n",
        "\n",
        "elif sizedisttype == 'WD':\n",
        "\n",
        "    dustmodel = WD01(componentnames=grain_types, path=root_path, from_obs=True, sel_step=sel_step)\n",
        "\n",
        "    # initial guesses at parameters\n",
        "    p0     = []\n",
        "    pnames = []\n",
        "    for k, component in enumerate(dustmodel.components):\n",
        "        if component.name == 'silicates':\n",
        "            cparams  = dustmodel.parameters['silicates']\n",
        "            p0      += [ cparams['C_s'], cparams['a_ts'], cparams['alpha_s'], cparams['beta_s'] ]\n",
        "            pnames  += ['C_s'+str(k), 'a_ts'+str(k), 'alpha_s'+str(k), 'beta_s'+str(k)]\n",
        "        else:\n",
        "            cparams  = dustmodel.parameters['carbonaceous']\n",
        "            p0      += [cparams['C_g'], cparams['a_tg'], cparams['alpha_g'], cparams['beta_g'], cparams['a_cg'],cparams['b_C'] ]\n",
        "            pnames  += [ 'C_g'+str(k), 'a_tg'+str(k), 'alpha_g'+str(k), 'beta_g'+str(k), 'a_cg'+str(k), 'b_C'+str(k)]\n",
        "\n",
        "    # need to set dust model size distribution\n",
        "    dustmodel.set_size_dist(p0)\n",
        "\n",
        "else:\n",
        "    print('Please select a size distribution [MRN, WD]')\n",
        "    exit()\n",
        "# End - if"
      ],
      "execution_count": 36,
      "outputs": []
    },
    {
      "cell_type": "code",
      "metadata": {
        "colab": {
          "base_uri": "https://localhost:8080/"
        },
        "id": "LEiaD5mR_8OL",
        "outputId": "bfa4fd4d-3b37-4d9a-c25a-dd31449a261a"
      },
      "source": [
        "# Initial values of paramters, and number of parameters\n",
        "print('p0: ', p0)\n",
        "print('param names: ', pnames)\n",
        "npars = len(p0)\n",
        "print('Number of params: ', npars)\n",
        "\n",
        "\n",
        "\n",
        "for k, component in enumerate(dustmodel.components):\n",
        "    print('Component: ', component)\n",
        "    print( 'Size distribution:', component.size_dist )\n",
        "    print( 'Length of size distribution:', len(component.size_dist) )\n",
        "    print()\n",
        "\n",
        "\n",
        "# Get the observed data as arrays of yobs and yerr\n",
        "(yobs, yerr) = get_arr_obsdata(obsdata)"
      ],
      "execution_count": 37,
      "outputs": [
        {
          "output_type": "stream",
          "text": [
            "p0:  [1.33e-12, 1710.0, -1.41, -11.5, 4.15e-11, 83.7, -1.91, -0.125, 4990.0, 3e-05]\n",
            "param names:  ['C_s0', 'a_ts0', 'alpha_s0', 'beta_s0', 'C_g1', 'a_tg1', 'alpha_g1', 'beta_g1', 'a_cg1', 'b_C1']\n",
            "Number of params:  10\n",
            "Component:  <libs.dustgrains.DustGrains object at 0x7f5366281940>\n",
            "Size distribution: [2.21860096e-001 6.19342902e-002 1.71113015e-002 4.65016120e-003\n",
            " 1.23193322e-003 3.14428905e-004 7.62960948e-005 1.73994710e-005\n",
            " 3.70895674e-006 7.41310305e-007 1.40345176e-007 2.55020678e-008\n",
            " 4.47977311e-009 3.29404998e-011 9.69798496e-032 1.18395474e-182\n",
            " 0.00000000e+000 0.00000000e+000 0.00000000e+000 0.00000000e+000\n",
            " 0.00000000e+000 0.00000000e+000 0.00000000e+000 0.00000000e+000\n",
            " 0.00000000e+000]\n",
            "Length of size distribution: 25\n",
            "\n",
            "Component:  <libs.dustgrains.DustGrains object at 0x7f53711a1b00>\n",
            "Size distribution: [1.77076904e+001 4.25384157e+000 2.03992342e-001 7.01460520e-003\n",
            " 2.05964387e-003 5.14115344e-004 6.23822129e-005 9.74766913e-006\n",
            " 1.87722195e-006 3.48139497e-007 6.05551459e-008 9.78571252e-009\n",
            " 1.43917533e-009 1.72228081e-010 9.33197101e-012 1.26450635e-014\n",
            " 3.43044342e-025 1.35379766e-068 8.86469621e-079 1.05125252e-089\n",
            " 2.25773395e-101 8.78354743e-114 6.18888289e-127 7.89725909e-141\n",
            " 1.82529779e-155]\n",
            "Length of size distribution: 25\n",
            "\n"
          ],
          "name": "stdout"
        }
      ]
    },
    {
      "cell_type": "code",
      "metadata": {
        "id": "0xOmrZE4CM8r"
      },
      "source": [
        "@theano.compile.ops.as_op(itypes=[tt.dscalar]*npars, otypes=[tt.dvector])\n",
        "def model_fcn(*args):\n",
        "    '''\n",
        "    | Spectral energy distribution of a galaxy as a modified black body in units of mJy\n",
        "    |\n",
        "    | Flux_nu = (M_dust / d^2) * kappa_nu0 * (nu/nu0)^beta * Planck function\n",
        "    |\n",
        "    | Note: M_dust in the form of 10^{M}*Msun\n",
        "    |\n",
        "    | --Params:\n",
        "    |           nu_obs: 1-D array - the observed frequency of flux measurements\n",
        "    |           T:      ndarray/array/scalar - dust temperature\n",
        "    |           beta:   1-D array - the emissivity parameter\n",
        "    |           M   :   1-D array - the mass of dust in the galaxy in the form of  Msun * 10^M\n",
        "    |           d:      1-D array - the distance to the galaxy\n",
        "    |           z:      1-D array - the redshift of the galaxy\n",
        "    |\n",
        "    | --Return:\n",
        "    |            spectral energy distribution of a galaxy as a modified black body in units of mJy\n",
        "    '''\n",
        "\n",
        "    # p_pars = [float(C0), float(p0), float(amin0), float(amax0), float(C1), float(p1), float(amin1), float(amax1)]\n",
        "    p_pars = [float(x) for x in args]\n",
        "\n",
        "    # Update size_dist, self.component.size_dist (25,)\n",
        "    dustmodel.set_size_dist(p_pars)\n",
        "\n",
        "\n",
        "    # Values from model\n",
        "    model_values = dustmodel.eff_grain_props(obsdata)\n",
        "\n",
        "    model_fit = []\n",
        "\n",
        "    # extinction\n",
        "    model_fit = 1.086 * (model_values['cabs'] + model_values['csca'])\n",
        "\n",
        "    # Abundances\n",
        "    natoms         = model_values['natoms']\n",
        "    atomabund_mod  = []\n",
        "    for atomname, atomval in natoms.items():\n",
        "        atomabund_mod.append( atomval )\n",
        "\n",
        "    model_fit = np.concatenate( [model_fit, np.array(atomabund_mod)] )\n",
        "\n",
        "    # emission\n",
        "    model_fit = np.concatenate( [model_fit, model_values['emission']] )\n",
        "\n",
        "    # albedo\n",
        "    model_fit = np.concatenate( [model_fit, model_values['albedo']] )\n",
        "\n",
        "    # g=cos(theta)\n",
        "    model_fit = np.concatenate( [model_fit, model_values['g']] )\n",
        "\n",
        "    return model_fit"
      ],
      "execution_count": 38,
      "outputs": []
    },
    {
      "cell_type": "code",
      "metadata": {
        "colab": {
          "base_uri": "https://localhost:8080/"
        },
        "id": "lY6ZtEoyCSFn",
        "outputId": "01106d64-42b3-4109-e894-f12bffa39d6d"
      },
      "source": [
        "# Setup the pm3 model\n",
        "with pm.Model() as model:\n",
        "\n",
        "    # Priors\n",
        "    prior_pars = {}\n",
        "    for name, val  in zip( pnames, p0 ):\n",
        "        # prior_pars[name] = pm.Uniform(name, lower=ps, upper=pf) # uniform prior\n",
        "        prior_pars[name] = pm.Normal(name, mu=val, sd=0.05*val)\n",
        "\n",
        "\n",
        "    # Expected value of outcome, a.k.a  the model\n",
        "    # mu = model_fcn(prior_pars)\n",
        "    mu = model_fcn(*[ prior_pars[name] for name in pnames])\n",
        "\n",
        "    # Likelihood (sampling distribution) of observations\n",
        "    _ = pm.Normal('Y_obs', mu=mu, sd=yerr, observed=yobs)\n",
        "# end - with\n",
        "\n",
        "\n",
        "\n",
        "'''\n",
        " Setup the pm3 params for the fit\n",
        " n_sample : number of samples to take\n",
        " chains   : number of concurrent chains\n",
        " burn     : number of initial samples to burn\n",
        " thin     : multiple of samples to keep\n",
        "'''\n",
        "n_sample = 10000\n",
        "n_sample = 1000\n",
        "\n",
        "tune     = 2000\n",
        "tune     = 100\n",
        "\n",
        "chains   = 3\n",
        "burn     = int(0.1*n_sample)\n",
        "thin     = 5\n",
        "\n",
        "\n",
        "#>>>> Run the fit\n",
        "with model:\n",
        "    #start = pm.find_MAP()\n",
        "    #step =pm.NUTS()    \n",
        "    # start = {'C0': 1e-25, 'p0': 3.5, 'amin0': 1e-07, 'amax0': 0.001, 'C1': 1e-25, 'p1': 3.5, 'amin1': 1e-07, 'amax1': 0.001}\n",
        "    start = {}\n",
        "    for k,v in zip(pnames, p0) :\n",
        "        start[k] = v\n",
        "    step = pm.Metropolis()\n",
        "\n",
        "with model:\n",
        "    trace = pm.sample(n_sample, step, start, chains=chains, tune=tune)\n",
        "#<<<<    "
      ],
      "execution_count": 39,
      "outputs": [
        {
          "output_type": "stream",
          "text": [
            "Sequential sampling (3 chains in 1 job)\n",
            "CompoundStep\n",
            ">Metropolis: [b_C1]\n",
            ">Metropolis: [a_cg1]\n",
            ">Metropolis: [beta_g1]\n",
            ">Metropolis: [alpha_g1]\n",
            ">Metropolis: [a_tg1]\n",
            ">Metropolis: [C_g1]\n",
            ">Metropolis: [beta_s0]\n",
            ">Metropolis: [alpha_s0]\n",
            ">Metropolis: [a_ts0]\n",
            ">Metropolis: [C_s0]\n",
            "100%|██████████| 1100/1100 [13:08<00:00,  1.40it/s]\n",
            "100%|██████████| 1100/1100 [13:13<00:00,  1.39it/s]\n",
            "100%|██████████| 1100/1100 [13:12<00:00,  1.39it/s]\n"
          ],
          "name": "stderr"
        }
      ]
    },
    {
      "cell_type": "code",
      "metadata": {
        "colab": {
          "base_uri": "https://localhost:8080/",
          "height": 191
        },
        "id": "EHf0BpROO8DJ",
        "outputId": "a9dc1d29-7827-4cd0-9870-9fad2a3214f3"
      },
      "source": [
        "\n",
        "# Save the best fit params\n",
        "fit_params_best = []\n",
        "dat             = {}\n",
        "for par in pnames:\n",
        "    values = trace.get_values(par, burn=burn, thin=thin)\n",
        "    fit_params_best.append(values.mean(axis=0))\n",
        "\n",
        "    dat[par+'_mean'] = [values.mean(axis=0)]\n",
        "    dat[par+'_std']  = [values.std(axis=0)]\n",
        "\n",
        "\n",
        "# Mean and std of the params\n",
        "print('Mean and std of the params: ')\n",
        "print(dat)\n",
        "\n",
        "# Save the params to csv\n",
        "df = pd.DataFrame(data=dat)\n",
        "print( df.head() )\n",
        "df.to_csv(index=False)\n",
        "\n",
        "# The number of effective samples is smaller than 25% for some parameters.\n",
        "# {'C0_mean': [9.001064750768227e-26], 'C0_std': [1.0916226096423437e-29], 'p0_mean': [3.150029649240011], 'p0_std': [3.0970264831119365e-05], 'amin0_mean': [9.969435022428174e-08], 'amin0_std': [6.0505440466563e-09], 'amax0_mean': [0.0009970073309611227], 'amax0_std': [5.6855812599731864e-05], 'C1_mean': [9.000059096040242e-26], 'C1_std': [5.415110422299333e-31], 'p1_mean': [3.1500012158405823], 'p1_std': [1.1912495223190136e-06], 'amin1_mean': [9.98342610582984e-08], 'amin1_std': [5.756200710757336e-09], 'amax1_mean': [0.0009923324663932533], 'amax1_std': [5.6590062787141085e-05]}\n",
        "#         C0_mean        C0_std  p0_mean  ...     amin1_std  amax1_mean  amax1_std\n",
        "# 0  9.001065e-26  1.091623e-29  3.15003  ...  5.756201e-09    0.000992   0.000057\n",
        "\n",
        "# [1 rows x 16 columns]\n",
        "\n",
        "\n",
        "# {'C0_mean': [1.0000000000000002e-25], 'C0_std': [1.1479437019748901e-41], 'p0_mean': [3.145885655438738], 'p0_std': [0.003178120488211224], 'amin0_mean': [1e-07], 'amin0_std': [0.0], 'amax0_mean': [0.0010000000000000002], 'amax0_std': [2.168404344971009e-19], 'C1_mean': [1.0000000000000002e-25], 'C1_std': [1.1479437019748901e-41], 'p1_mean': [2.752089836517056], 'p1_std': [0.005391810678624622], 'amin1_mean': [1e-07], 'amin1_std': [0.0], 'amax1_mean': [0.0010000000000000002], 'amax1_std': [2.168404344971009e-19]}"
      ],
      "execution_count": 40,
      "outputs": [
        {
          "output_type": "stream",
          "text": [
            "Mean and std of the params: \n",
            "{'C_s0_mean': [1.3300000000000002e-12], 'C_s0_std': [2.0194839173657902e-28], 'a_ts0_mean': [1710.0], 'a_ts0_std': [0.0], 'alpha_s0_mean': [-1.41], 'alpha_s0_std': [0.0], 'beta_s0_mean': [-11.5], 'beta_s0_std': [0.0], 'C_g1_mean': [4.1500000000000005e-11], 'C_g1_std': [6.462348535570529e-27], 'a_tg1_mean': [83.7], 'a_tg1_std': [0.0], 'alpha_g1_mean': [-1.9100000000000001], 'alpha_g1_std': [2.220446049250313e-16], 'beta_g1_mean': [-0.125], 'beta_g1_std': [0.0], 'a_cg1_mean': [4990.0], 'a_cg1_std': [0.0], 'b_C1_mean': [3.0000000000000004e-05], 'b_C1_std': [3.3881317890172014e-21]}\n",
            "      C_s0_mean      C_s0_std  a_ts0_mean  ...  a_cg1_std  b_C1_mean      b_C1_std\n",
            "0  1.330000e-12  2.019484e-28      1710.0  ...        0.0    0.00003  3.388132e-21\n",
            "\n",
            "[1 rows x 20 columns]\n"
          ],
          "name": "stdout"
        },
        {
          "output_type": "execute_result",
          "data": {
            "application/vnd.google.colaboratory.intrinsic+json": {
              "type": "string"
            },
            "text/plain": [
              "'C_s0_mean,C_s0_std,a_ts0_mean,a_ts0_std,alpha_s0_mean,alpha_s0_std,beta_s0_mean,beta_s0_std,C_g1_mean,C_g1_std,a_tg1_mean,a_tg1_std,alpha_g1_mean,alpha_g1_std,beta_g1_mean,beta_g1_std,a_cg1_mean,a_cg1_std,b_C1_mean,b_C1_std\\n1.3300000000000002e-12,2.0194839173657902e-28,1710.0,0.0,-1.41,0.0,-11.5,0.0,4.1500000000000005e-11,6.462348535570529e-27,83.7,0.0,-1.9100000000000001,2.220446049250313e-16,-0.125,0.0,4990.0,0.0,3.0000000000000004e-05,3.3881317890172014e-21\\n'"
            ]
          },
          "metadata": {
            "tags": []
          },
          "execution_count": 40
        }
      ]
    },
    {
      "cell_type": "code",
      "metadata": {
        "id": "pTbVEwcvLLNr"
      },
      "source": [
        "# Save to FITS\n",
        "fitsfile = prefile +'_pymc3_' + str(n_sample) + '_' + str(burn) + '.fits'\n",
        "dustmodel.save_best_results_pm3(fitsfile, fit_params_best, obsdata)"
      ],
      "execution_count": 44,
      "outputs": []
    },
    {
      "cell_type": "code",
      "metadata": {
        "id": "oxG-MSMsFkIw"
      },
      "source": [
        "def get_krange(x, logaxis=False, in_range=[0]):\n",
        "\n",
        "    prange = np.array([0.0, 0.0])\n",
        "    if logaxis:\n",
        "        gindxs = x > 0\n",
        "        min_x = np.amin(x[gindxs])\n",
        "        max_x = np.amax(x[gindxs])\n",
        "    else:\n",
        "        min_x = np.amin(x)\n",
        "        max_x = np.amax(x)\n",
        "\n",
        "    if logaxis:\n",
        "        max_x = np.log10(max_x)\n",
        "        if min_x <= 0.0:\n",
        "            min_x = max_x - 10.0\n",
        "        else:\n",
        "            min_x = np.log10(min_x)\n",
        "\n",
        "    delta = max_x - min_x\n",
        "    prange[0] = min_x - 0.1 * delta\n",
        "    prange[1] = max_x + 0.1 * delta\n",
        "\n",
        "    if logaxis:\n",
        "        prange = np.power(10.0, prange)\n",
        "\n",
        "    if len(in_range) > 1:\n",
        "        prange[0] = np.minimum(prange[0], in_range[0])\n",
        "        prange[1] = np.maximum(prange[1], in_range[1])\n",
        "\n",
        "    return prange\n",
        "\n",
        "\n",
        "# plot the size distributions\n",
        "def plot_dgfit_sizedist(\n",
        "    ax,\n",
        "    hdulist,\n",
        "    colors=[\"b\", \"g\"],\n",
        "    fontsize=12,\n",
        "    multa4=True,\n",
        "    plegend=True,\n",
        "    ltype=\"-\",\n",
        "    alpha=1.0,\n",
        "):\n",
        "\n",
        "    if \"DISTPUNC\" in hdulist[1].data.names:\n",
        "        plot_uncs = True\n",
        "    else:\n",
        "        plot_uncs = False\n",
        "\n",
        "    yrange = [0]\n",
        "    for i in range(hdulist[0].header[\"NCOMPS\"]):\n",
        "        hdu = hdulist[i + 1]\n",
        "\n",
        "        xvals = hdu.data[\"SIZE\"] * 1e4\n",
        "        yvals = hdu.data[\"DIST\"]\n",
        "\n",
        "        if plot_uncs:\n",
        "            yvals_punc = hdu.data[\"DISTPUNC\"]\n",
        "            yvals_munc = hdu.data[\"DISTMUNC\"]\n",
        "\n",
        "        if multa4:\n",
        "            xvals4 = hdu.data[\"SIZE\"] ** 4\n",
        "            yvals = yvals * xvals4\n",
        "            if plot_uncs:\n",
        "                yvals_punc = yvals_punc * xvals4\n",
        "                yvals_munc = yvals_munc * xvals4\n",
        "\n",
        "        yrange = get_krange(yvals, logaxis=True, in_range=yrange)\n",
        "        if plot_uncs:\n",
        "            yrange = get_krange(yvals - yvals_munc, logaxis=True, in_range=yrange)\n",
        "            yrange = get_krange(yvals + yvals_punc, logaxis=True, in_range=yrange)\n",
        "\n",
        "        gindxs = yvals > 0\n",
        "\n",
        "        ax.plot(\n",
        "            xvals[gindxs],\n",
        "            yvals[gindxs],\n",
        "            colors[i] + ltype,\n",
        "            label=hdu.header[\"EXTNAME\"],\n",
        "            alpha=alpha,\n",
        "        )\n",
        "        if plot_uncs:\n",
        "            ax.errorbar(\n",
        "                xvals[gindxs],\n",
        "                yvals[gindxs],\n",
        "                fmt=colors[i] + \"o\",\n",
        "                yerr=[yvals_munc[gindxs], yvals_punc[gindxs]],\n",
        "                alpha=alpha,\n",
        "            )\n",
        "\n",
        "    if multa4:\n",
        "        ylabel = r\"$a^4 N_d(a)/N(H)$\"\n",
        "    else:\n",
        "        ylabel = r\"$N_d(a)/N(H)$\"\n",
        "\n",
        "    ax.set_xscale(\"log\")\n",
        "    ax.set_yscale(\"log\")\n",
        "    ax.set_xlim(get_krange(xvals, logaxis=True))\n",
        "    ax.set_ylim(yrange)\n",
        "    ax.set_xlabel(r\"$a [\\mu m]$\", fontsize=fontsize)\n",
        "    ax.set_ylabel(ylabel, fontsize=fontsize)\n",
        "    if plegend:\n",
        "        ax.legend()\n",
        "\n",
        "\n",
        "# plot the atomic abundances\n",
        "def plot_dgfit_abundances(ax, hdu, obsdata, colors=[\"r\", \"b\", \"g\"], fontsize=12):\n",
        "\n",
        "    # plot the dust abundances\n",
        "    atomnames = hdu.data[\"NAME\"]\n",
        "    atomabund = hdu.data[\"ABUND\"]\n",
        "    n_atoms   = len(atomnames)\n",
        "    aindxs    = np.arange(n_atoms)\n",
        "    width     = 0.5\n",
        "    ax.bar(aindxs + 0.75 * width, atomabund, width)\n",
        "\n",
        "    ax.errorbar(aindxs + 0.75 * width, [obsdata.abundance[x][0] for x in atomnames],\n",
        "                yerr=[obsdata.abundance[x][1] for x in atomnames],\n",
        "                fmt='ko', label='Observed')\n",
        "\n",
        "    ax.set_ylabel(r\"$N(X)/[10^6 N(H)]$\", fontsize=fontsize)\n",
        "    ax.set_xticks(aindxs + (0.75 * width))\n",
        "    ax.set_xticklabels(atomnames)\n",
        "\n",
        "\n",
        "# plot the extinction curves (total and components)\n",
        "def plot_dgfit_extinction(ax, hdu, obsdata, colors=['r', 'b', 'g'], fontsize=12, comps=True, ltype=\"-\"):\n",
        "\n",
        "    ax.plot(1./hdu.data[\"WAVE\"], hdu.data[\"EXT\"], colors[0] + ltype, label='Total')\n",
        "    yrange = get_krange(hdu.data[\"EXT\"], logaxis=True)\n",
        "    \n",
        "    if comps:\n",
        "        for i in range(len(hdu.data.names) - 2):\n",
        "            ax.plot(1./hdu.data[\"WAVE\"], hdu.data[\"EXT\" + str(i + 1)], colors[i + 1] + ltype)\n",
        "            yrange = get_krange(hdu.data[\"EXT\" + str(i + 1)], logaxis=True, in_range=yrange)\n",
        "\n",
        "    ax.plot(1./obsdata.ext_lambda, obsdata.ext_AlNHI, \"k-\", label=\"Observed\")\n",
        "    yrange = get_krange(obsdata.ext_AlNHI, logaxis=True, in_range=yrange)\n",
        "\n",
        "    ax.set_xscale(\"log\")\n",
        "    ax.set_yscale(\"log\")\n",
        "    ax.set_xlabel(r\"$\\lambda [\\mu m]$\", fontsize=fontsize)\n",
        "    ax.set_ylabel(r\"$A(\\lambda)/N(H)$\", fontsize=fontsize)\n",
        "\n",
        "    ax.set_xlim(get_krange(1./hdu.data[\"WAVE\"], logaxis=True))\n",
        "    ax.set_ylim(yrange)\n",
        "    ax.legend()\n",
        "\n",
        "\n",
        "# plot the emission spectra (total and components)\n",
        "def plot_dgfit_emission(ax, hdu, obsdata, colors=[\"r\", \"b\", \"g\"], fontsize=12, comps=True, ltype=\"-\"):\n",
        "    ax.plot(hdu.data[\"WAVE\"], hdu.data[\"EMIS\"], colors[0] + ltype)\n",
        "    yrange = get_krange(hdu.data[\"EMIS\"], logaxis=True)\n",
        "    if comps:\n",
        "        # linetypes = [\"-\", \"-\", \"-\", \"-\", \"-\"]\n",
        "        for i in range(len(hdu.data.names) - 2):\n",
        "            ax.plot(\n",
        "                hdu.data[\"WAVE\"], hdu.data[\"EMIS\" + str(i + 1)], colors[i + 1] + ltype,\n",
        "            )\n",
        "            yrange = get_krange(\n",
        "                hdu.data[\"EMIS\" + str(i + 1)], logaxis=True, in_range=yrange\n",
        "            )\n",
        "\n",
        "    ax.errorbar(\n",
        "        obsdata.emis_lambda,\n",
        "        obsdata.spec_,\n",
        "        yerr=obsdata.spec_err,\n",
        "        fmt=\"ko\",\n",
        "        label=\"Observed\",\n",
        "    )\n",
        "    yrange = get_krange(obsdata.spec_, logaxis=True, in_range=yrange)\n",
        "\n",
        "    ax.set_xscale(\"log\")\n",
        "    ax.set_yscale(\"log\")\n",
        "    ax.set_xlabel(r\"$\\lambda [\\mu m]$\", fontsize=fontsize)\n",
        "    ax.set_ylabel(r\"$S$ $[MJy$ $sr^{-1}$ $N(H)^{-1}]$\", fontsize=fontsize)\n",
        "\n",
        "    ax.set_xlim(get_krange(hdu.data[\"WAVE\"], logaxis=True))\n",
        "    ax.set_ylim(yrange)\n",
        "\n",
        "\n",
        "# plot the dust scattering albedo\n",
        "def plot_dgfit_albedo(ax, hdu, obsdata, colors=[\"r\", \"b\", \"g\"], fontsize=12, comps=True, ltype=\"-\"):\n",
        "\n",
        "    ax.plot(hdu.data[\"WAVE\"], hdu.data[\"ALBEDO\"], colors[0] + ltype)\n",
        "    yrange = get_krange(hdu.data[\"ALBEDO\"])\n",
        "    if comps:\n",
        "        for i in range(len(hdu.data.names) - 2):\n",
        "            ax.plot(\n",
        "                hdu.data[\"WAVE\"],\n",
        "                hdu.data[\"ALBEDO\" + str(i + 1)],\n",
        "                colors[i + 1] + ltype,\n",
        "            )\n",
        "            yrange = get_krange(hdu.data[\"ALBEDO\" + str(i + 1)], in_range=yrange)\n",
        "\n",
        "    ax.errorbar(\n",
        "        obsdata.scat_albedo_lambda,\n",
        "        obsdata.scat_albedo,\n",
        "        yerr=obsdata.scat_albedo_err,\n",
        "        fmt=\"ko\",\n",
        "        label=\"Observed\",\n",
        "    )\n",
        "    # yrange = get_krange(obsdata.scat_albedo, in_range=yrange)\n",
        "\n",
        "    ax.set_xscale(\"log\")\n",
        "    ax.set_xlabel(r\"$\\lambda [\\mu m]$\", fontsize=fontsize)\n",
        "    ax.set_ylabel(r\"$albedo$\", fontsize=fontsize)\n",
        "\n",
        "    ax.set_xlim(get_krange(hdu.data[\"WAVE\"], logaxis=True))\n",
        "    ax.set_ylim([0.0, 1.0])\n",
        "    # ax.set_ylim(yrange)"
      ],
      "execution_count": 47,
      "outputs": []
    },
    {
      "cell_type": "code",
      "metadata": {
        "colab": {
          "base_uri": "https://localhost:8080/",
          "height": 733
        },
        "id": "KPDMymjTFsr3",
        "outputId": "109fa726-eb79-40b7-d4c7-a2d8819551c4"
      },
      "source": [
        "# fitsfile = 'dgfit_test_pm3_WD.fits'\n",
        "# fitsfile = 'dgfit_test_MRN_sizedist_best_fin.fits'\n",
        "# fitsfile = 'dgfit_test_pm3_MRN.fits'\n",
        "# fitsfile = 'dgfit_test_pm3_MRN_a.fits'\n",
        "# fitsfile = 'dgfit_test_MRN_sizedist_50.fits'\n",
        "# fitsfile = 'dgfit_test_WD_sizedist_best_fin.fits'\n",
        "\n",
        "print(fitsfile) # prefile +'_pymc3_' + str(n_sample) + '_' + str(burn) + '.fits'\n",
        "\n",
        "\n",
        "# setup the plots\n",
        "fontsize = 16\n",
        "font = {\"size\": fontsize}\n",
        "\n",
        "matplotlib.rc(\"font\", **font)\n",
        "\n",
        "matplotlib.rc(\"lines\", linewidth=2)\n",
        "matplotlib.rc(\"axes\", linewidth=2)\n",
        "matplotlib.rc(\"xtick.major\", width=2)\n",
        "matplotlib.rc(\"ytick.major\", width=2)\n",
        "\n",
        "fig, ax = pyplot.subplots(ncols=3, nrows=2, figsize=(20, 10))\n",
        "\n",
        "# Read the results\n",
        "hdulist = fits.open(fitsfile)\n",
        "\n",
        "# plot the dust size distributions\n",
        "colors = [\"b\", \"g\"]\n",
        "plot_dgfit_sizedist(ax[0, 0], hdulist, fontsize=fontsize, multa4=False)\n",
        "\n",
        "plot_dgfit_sizedist(ax[0, 1], hdulist, fontsize=fontsize, plegend=False)\n",
        "\n",
        "# plot the resulting total and component emission spectra\n",
        "plot_dgfit_emission(ax[0, 2], hdulist[\"EMISSION\"], obsdata, fontsize=fontsize)\n",
        "\n",
        "\n",
        "# plot the resulting total and component extinction curves\n",
        "plot_dgfit_extinction(ax[1, 0], hdulist[\"EXTINCTION\"], obsdata, fontsize=fontsize)\n",
        "\n",
        "# plot the resulting total and component emission spectra\n",
        "plot_dgfit_albedo(ax[1, 1], hdulist[\"ALBEDO\"], obsdata, fontsize=fontsize)\n",
        "\n",
        "# plot the abundances\n",
        "plot_dgfit_abundances(ax[1, 2], hdulist[\"ABUNDANCES\"], obsdata, fontsize=fontsize)\n",
        "\n",
        "if False:\n",
        "    hdulist2 = fits.open(fitsfile.replace(\"best_fin\", \"start\"))\n",
        "\n",
        "    plot_dgfit_sizedist( ax[0, 0], hdulist2, fontsize=fontsize, multa4=False, plegend=False, ltype=\"--\", alpha=0.5)\n",
        "    plot_dgfit_sizedist(ax[0, 1], hdulist2, fontsize=fontsize, plegend=False, ltype=\"--\", alpha=0.50)\n",
        "\n",
        "    plot_dgfit_emission(ax[0, 2], hdulist2[\"EMISSION\"], obsdata, fontsize=fontsize, ltype=\"--\")\n",
        "    \n",
        "    plot_dgfit_extinction(ax[1, 0], hdulist2[\"EXTINCTION\"], obsdata, fontsize=fontsize, ltype=\"--\")\n",
        "    \n",
        "    plot_dgfit_albedo(ax[1, 1], hdulist2[\"ALBEDO\"], obsdata, fontsize=fontsize, ltype=\"--\")\n",
        "\n",
        "# ax[0, 0].set_ylim(1e-14, 1e2)\n",
        "# ax[1, 0].set_ylim(1e-31, 3e-27)\n",
        "\n",
        "# ax[1, 2].xaxis.set_major_formatter(ScalarFormatter())\n",
        "# ax[1, 2].xaxis.set_minor_formatter(ScalarFormatter())\n",
        "\n",
        "pyplot.tight_layout()\n",
        "\n",
        "# show\n",
        "pyplot.show()"
      ],
      "execution_count": 48,
      "outputs": [
        {
          "output_type": "stream",
          "text": [
            "/content/gdrive/My Drive/Colab Notebooks/dustfit/results/WD_pymc3_1000_100.fits\n"
          ],
          "name": "stdout"
        },
        {
          "output_type": "display_data",
          "data": {
            "image/png": "[encoded data removed]",
            "text/plain": [
              "<Figure size 1440x720 with 6 Axes>"
            ]
          },
          "metadata": {
            "tags": [],
            "needs_background": "light"
          }
        }
      ]
    }
  ]
}