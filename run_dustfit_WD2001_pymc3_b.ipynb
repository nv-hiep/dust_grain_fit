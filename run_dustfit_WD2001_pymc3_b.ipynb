{
  "nbformat": 4,
  "nbformat_minor": 0,
  "metadata": {
    "colab": {
      "name": "run_dustfit_WD2001_pymc3_b.ipynb",
      "provenance": [],
      "collapsed_sections": [],
      "include_colab_link": true
    },
    "kernelspec": {
      "display_name": "Python 3",
      "language": "python",
      "name": "python3"
    },
    "language_info": {
      "codemirror_mode": {
        "name": "ipython",
        "version": 3
      },
      "file_extension": ".py",
      "mimetype": "text/x-python",
      "name": "python",
      "nbconvert_exporter": "python",
      "pygments_lexer": "ipython3",
      "version": "3.8.5"
    }
  },
  "cells": [
    {
      "cell_type": "markdown",
      "metadata": {
        "id": "view-in-github",
        "colab_type": "text"
      },
      "source": [
        "<a href=\"https://colab.research.google.com/github/nv-hiep/dust_grain_fit/blob/main/run_dustfit_WD2001_pymc3_b.ipynb\" target=\"_parent\"><img src=\"https://colab.research.google.com/assets/colab-badge.svg\" alt=\"Open In Colab\"/></a>"
      ]
    },
    {
      "cell_type": "markdown",
      "metadata": {
        "id": "QHUXX7K9Y3b8"
      },
      "source": [
        "# **Dust Grain Fit using WD2001 model (MW) - pymc3**"
      ]
    },
    {
      "cell_type": "markdown",
      "metadata": {
        "id": "MX_6z0f0XOz5"
      },
      "source": [
        "# 1. Mount the google drive"
      ]
    },
    {
      "cell_type": "code",
      "metadata": {
        "colab": {
          "base_uri": "https://localhost:8080/"
        },
        "id": "PjjcQSpya_FR",
        "outputId": "f23e8849-2003-486d-ac63-65b4624f43be"
      },
      "source": [
        "from google.colab import drive\n",
        "drive.mount('/content/gdrive')\n",
        "# !ls"
      ],
      "execution_count": 1,
      "outputs": [
        {
          "output_type": "stream",
          "text": [
            "Drive already mounted at /content/gdrive; to attempt to forcibly remount, call drive.mount(\"/content/gdrive\", force_remount=True).\n"
          ],
          "name": "stdout"
        }
      ]
    },
    {
      "cell_type": "code",
      "metadata": {
        "colab": {
          "base_uri": "https://localhost:8080/"
        },
        "id": "cLARM5NI7D9k",
        "outputId": "99589d3b-b197-47bb-8077-1dcd18db91cb"
      },
      "source": [
        "!pip3 install uncertainties"
      ],
      "execution_count": 2,
      "outputs": [
        {
          "output_type": "stream",
          "text": [
            "Requirement already satisfied: uncertainties in /usr/local/lib/python3.6/dist-packages (3.1.5)\n",
            "Requirement already satisfied: future in /usr/local/lib/python3.6/dist-packages (from uncertainties) (0.16.0)\n"
          ],
          "name": "stdout"
        }
      ]
    },
    {
      "cell_type": "code",
      "metadata": {
        "id": "QeewQBgDoap-"
      },
      "source": [
        "# !pip3 install pymc3>=3.8"
      ],
      "execution_count": 3,
      "outputs": []
    },
    {
      "cell_type": "code",
      "metadata": {
        "id": "Q2xdjM7abp3i"
      },
      "source": [
        "# !pip3 install arviz"
      ],
      "execution_count": 4,
      "outputs": []
    },
    {
      "cell_type": "markdown",
      "metadata": {
        "id": "FgfeZe4ivlpb"
      },
      "source": [
        "# 2. Root directory"
      ]
    },
    {
      "cell_type": "code",
      "metadata": {
        "colab": {
          "base_uri": "https://localhost:8080/"
        },
        "id": "kQMxb4XjWxAA",
        "outputId": "d9bb44da-aada-4473-e7fc-9e7c9e880380"
      },
      "source": [
        "cd '/content/gdrive/My Drive/Colab Notebooks/dustfit'"
      ],
      "execution_count": 5,
      "outputs": [
        {
          "output_type": "stream",
          "text": [
            "/content/gdrive/My Drive/Colab Notebooks/dustfit\n"
          ],
          "name": "stdout"
        }
      ]
    },
    {
      "cell_type": "markdown",
      "metadata": {
        "id": "BDJptlLBvSlN"
      },
      "source": [
        "# 3. Import Libraries\n",
        "\n"
      ]
    },
    {
      "cell_type": "code",
      "metadata": {
        "id": "FEQ0k2g3WWwk"
      },
      "source": [
        "#!/usr/bin/env python\n",
        "from __future__ import print_function\n",
        "\n",
        "import os\n",
        "import sys\n",
        "import time\n",
        "import pickle\n",
        "\n",
        "import numpy             as np\n",
        "import matplotlib.pyplot as pyplot\n",
        "\n",
        "import matplotlib\n",
        "from matplotlib.ticker import ScalarFormatter\n",
        "\n",
        "import pymc3   as pm\n",
        "\n",
        "import theano\n",
        "import theano.tensor as tt\n",
        "\n",
        "import pandas as pd\n",
        "# from pymc3.backends.base import MultiTrace=\n",
        "\n",
        "import uncertainties.unumpy as unp\n",
        "\n",
        "from astropy.io     import fits\n",
        "\n",
        "from libs.dustmodel import DustModel, MRN77, WD01\n",
        "from libs.dustdata  import DustData\n",
        "\n",
        "%matplotlib inline"
      ],
      "execution_count": 6,
      "outputs": []
    },
    {
      "cell_type": "markdown",
      "metadata": {
        "id": "lj52GvdETSgB"
      },
      "source": [
        "## 4. Data"
      ]
    },
    {
      "cell_type": "code",
      "metadata": {
        "colab": {
          "base_uri": "https://localhost:8080/"
        },
        "id": "nuL4xaXs7770",
        "outputId": "42756a52-a70d-4906-ac77-c3fb116498ed"
      },
      "source": [
        "# Path to the data\n",
        "root_path = os.getcwd()\n",
        "print(os.getcwd())\n",
        "print(os.path.dirname(os.path.realpath('__file__')))"
      ],
      "execution_count": 7,
      "outputs": [
        {
          "output_type": "stream",
          "text": [
            "/content/gdrive/My Drive/Colab Notebooks/dustfit\n",
            "/content/gdrive/My Drive/Colab Notebooks/dustfit\n"
          ],
          "name": "stdout"
        }
      ]
    },
    {
      "cell_type": "code",
      "metadata": {
        "colab": {
          "base_uri": "https://localhost:8080/"
        },
        "id": "zuUxdYnE8K12",
        "outputId": "559ecbe6-f74e-4501-81fe-e3d0ae9d18c9"
      },
      "source": [
        "# Pymc3 params for the fit\n",
        "sel_step     = 1\n",
        "sizedisttype = 'WD'\n",
        "gal          = 'MW'\n",
        "\n",
        "# set the prefix_filename of the output\n",
        "prefile = os.path.join(root_path, 'results', sizedisttype) # eg: path.. results/test_MRN\n",
        "\n",
        "print('The prefix_filename of the output file: ', prefile)\n",
        "\n",
        "\n",
        "# Path to data\n",
        "path = os.path.join(root_path, 'data', gal)"
      ],
      "execution_count": 8,
      "outputs": [
        {
          "output_type": "stream",
          "text": [
            "The prefix_filename of the output file:  /content/gdrive/My Drive/Colab Notebooks/dustfit/results/WD\n"
          ],
          "name": "stdout"
        }
      ]
    },
    {
      "cell_type": "code",
      "metadata": {
        "id": "v_y5CSPC8oWl"
      },
      "source": [
        "# Read observed data \n",
        "obsdata = DustData(path,\n",
        "                    abundance  = True,\n",
        "                    extinction = True,\n",
        "                    emission   = True,\n",
        "                    scattering = True,\n",
        "                    ISRF       = True )"
      ],
      "execution_count": 9,
      "outputs": []
    },
    {
      "cell_type": "code",
      "metadata": {
        "id": "Z_79oxqsPwNM"
      },
      "source": [
        "def get_arr_obsdata(obsdata):\n",
        "    \n",
        "    # extinction\n",
        "    yobs      = obsdata.ext_AlNHI\n",
        "    yerr      = obsdata.ext_AlNHI_err\n",
        "\n",
        "    # Abundances\n",
        "    atomabund_y    = []\n",
        "    atomabund_yerr = []\n",
        "    for atomname, atomval in obsdata.abundance.items():\n",
        "        atomabund_y.append( obsdata.abundance[atomname][0] )\n",
        "        atomabund_yerr.append( obsdata.abundance[atomname][1] )\n",
        "\n",
        "    atomabund_y    = np.array(atomabund_y)\n",
        "    atomabund_yerr = np.array(atomabund_yerr)\n",
        "\n",
        "    yobs           = np.concatenate( [yobs, atomabund_y] )\n",
        "    yerr           = np.concatenate( [yerr, atomabund_yerr] )\n",
        "\n",
        "    # Emission\n",
        "    yobs           = np.concatenate( [yobs, obsdata.spec_] )\n",
        "    yerr           = np.concatenate( [yerr, obsdata.spec_err] )\n",
        "\n",
        "    # Albedo\n",
        "    yobs           = np.concatenate( [yobs, obsdata.scat_albedo] )\n",
        "    yerr           = np.concatenate( [yerr, obsdata.scat_albedo_err] )\n",
        "\n",
        "    # g=cos(theta)\n",
        "    yobs           = np.concatenate( [yobs, obsdata.scat_g] )\n",
        "    yerr           = np.concatenate( [yerr, obsdata.scat_g_err] )\n",
        "\n",
        "    return (yobs, yerr)"
      ],
      "execution_count": 10,
      "outputs": []
    },
    {
      "cell_type": "code",
      "metadata": {
        "id": "jc2KHn0dADhR"
      },
      "source": [
        "# Grain components\n",
        "grain_types = ['silicates','carbonaceous']\n",
        "\n",
        "\n",
        "# # min and max grain radii for MRN distribution\n",
        "# AMIN     = 0.005   # micron\n",
        "# AMAX     = 0.3     # micron\n",
        "if sizedisttype == 'MRN':\n",
        "    \n",
        "    # define the fitting model\n",
        "    dustmodel = MRN77(componentnames=grain_types, path=root_path, from_obs=True, sel_step=sel_step)\n",
        "\n",
        "    p0 = []\n",
        "    pnames = []\n",
        "    for k, component in enumerate(dustmodel.components):\n",
        "        cparams = dustmodel.parameters[component.name]\n",
        "        p0     += [cparams['C'], cparams['p'], cparams['amin'], cparams['amax']]\n",
        "        pnames += [ 'C'+str(k), 'p'+str(k), 'amin'+str(k), 'amax'+str(k) ]\n",
        "\n",
        "    # need to set dust model size distribution\n",
        "    # sizedist = A*a^-alpha, A = params['C'] : Amplitude\n",
        "    dustmodel.set_size_dist(p0)\n",
        "\n",
        "\n",
        "\n",
        "\n",
        "elif sizedisttype == 'WD':\n",
        "\n",
        "    dustmodel = WD01(componentnames=grain_types, path=root_path, from_obs=True, sel_step=sel_step)\n",
        "\n",
        "    # initial guesses at parameters\n",
        "    p0     = []\n",
        "    pnames = []\n",
        "    for k, component in enumerate(dustmodel.components):\n",
        "        if component.name == 'silicates':\n",
        "            cparams  = dustmodel.parameters['silicates']\n",
        "            p0      += [ cparams['C_s'], cparams['a_ts'], cparams['alpha_s'], cparams['beta_s'] ]\n",
        "            pnames  += ['C_s'+str(k), 'a_ts'+str(k), 'alpha_s'+str(k), 'beta_s'+str(k)]\n",
        "        else:\n",
        "            cparams  = dustmodel.parameters['carbonaceous']\n",
        "            p0      += [cparams['C_g'], cparams['a_tg'], cparams['alpha_g'], cparams['beta_g'], cparams['a_cg'],cparams['b_C'] ]\n",
        "            pnames  += [ 'C_g'+str(k), 'a_tg'+str(k), 'alpha_g'+str(k), 'beta_g'+str(k), 'a_cg'+str(k), 'b_C'+str(k)]\n",
        "\n",
        "    # need to set dust model size distribution\n",
        "    dustmodel.set_size_dist(p0)\n",
        "\n",
        "else:\n",
        "    print('Please select a size distribution [MRN, WD]')\n",
        "    exit()\n",
        "# End - if"
      ],
      "execution_count": 11,
      "outputs": []
    },
    {
      "cell_type": "code",
      "metadata": {
        "colab": {
          "base_uri": "https://localhost:8080/"
        },
        "id": "LEiaD5mR_8OL",
        "outputId": "91f5c189-1d36-4dbc-f801-4f853bf8571b"
      },
      "source": [
        "# Initial values of paramters, and number of parameters\n",
        "print('p0: ', p0)\n",
        "print('param names: ', pnames)\n",
        "npars = len(p0)\n",
        "print('Number of params: ', npars)\n",
        "\n",
        "\n",
        "\n",
        "for k, component in enumerate(dustmodel.components):\n",
        "    print('Component: ', component)\n",
        "    print( 'Size distribution:', component.size_dist )\n",
        "    print( 'Length of size distribution:', len(component.size_dist) )\n",
        "    print()\n",
        "\n",
        "\n",
        "# Get the observed data as arrays of yobs and yerr\n",
        "(yobs, yerr) = get_arr_obsdata(obsdata)"
      ],
      "execution_count": 12,
      "outputs": [
        {
          "output_type": "stream",
          "text": [
            "p0:  [1.33e-12, 1710.0, -1.41, -11.5, 4.15e-11, 83.7, -1.91, -0.125, 4990.0, 3e-05]\n",
            "param names:  ['C_s0', 'a_ts0', 'alpha_s0', 'beta_s0', 'C_g1', 'a_tg1', 'alpha_g1', 'beta_g1', 'a_cg1', 'b_C1']\n",
            "Number of params:  10\n",
            "Component:  <libs.dustgrains.DustGrains object at 0x7f5fbcc6cef0>\n",
            "Size distribution: [2.21860096e-001 6.19342902e-002 1.71113015e-002 4.65016120e-003\n",
            " 1.23193322e-003 3.14428905e-004 7.62960948e-005 1.73994710e-005\n",
            " 3.70895674e-006 7.41310305e-007 1.40345176e-007 2.55020678e-008\n",
            " 4.47977311e-009 3.29404998e-011 9.69798496e-032 1.18395474e-182\n",
            " 0.00000000e+000 0.00000000e+000 0.00000000e+000 0.00000000e+000\n",
            " 0.00000000e+000 0.00000000e+000 0.00000000e+000 0.00000000e+000\n",
            " 0.00000000e+000]\n",
            "Length of size distribution: 25\n",
            "\n",
            "Component:  <libs.dustgrains.DustGrains object at 0x7f5fbcc6ca20>\n",
            "Size distribution: [1.77076904e+001 4.25384157e+000 2.03992342e-001 7.01460520e-003\n",
            " 2.05964387e-003 5.14115344e-004 6.23822129e-005 9.74766913e-006\n",
            " 1.87722195e-006 3.48139497e-007 6.05551459e-008 9.78571252e-009\n",
            " 1.43917533e-009 1.72228081e-010 9.33197101e-012 1.26450635e-014\n",
            " 3.43044342e-025 1.35379766e-068 8.86469621e-079 1.05125252e-089\n",
            " 2.25773395e-101 8.78354743e-114 6.18888289e-127 7.89725909e-141\n",
            " 1.82529779e-155]\n",
            "Length of size distribution: 25\n",
            "\n"
          ],
          "name": "stdout"
        }
      ]
    },
    {
      "cell_type": "code",
      "metadata": {
        "id": "0xOmrZE4CM8r"
      },
      "source": [
        "@theano.compile.ops.as_op(itypes=[tt.dscalar]*npars, otypes=[tt.dvector])\n",
        "def model_fcn(*args):\n",
        "    '''\n",
        "    | Spectral energy distribution of a galaxy as a modified black body in units of mJy\n",
        "    |\n",
        "    | Flux_nu = (M_dust / d^2) * kappa_nu0 * (nu/nu0)^beta * Planck function\n",
        "    |\n",
        "    | Note: M_dust in the form of 10^{M}*Msun\n",
        "    |\n",
        "    | --Params:\n",
        "    |           nu_obs: 1-D array - the observed frequency of flux measurements\n",
        "    |           T:      ndarray/array/scalar - dust temperature\n",
        "    |           beta:   1-D array - the emissivity parameter\n",
        "    |           M   :   1-D array - the mass of dust in the galaxy in the form of  Msun * 10^M\n",
        "    |           d:      1-D array - the distance to the galaxy\n",
        "    |           z:      1-D array - the redshift of the galaxy\n",
        "    |\n",
        "    | --Return:\n",
        "    |            spectral energy distribution of a galaxy as a modified black body in units of mJy\n",
        "    '''\n",
        "\n",
        "    # p_pars = [float(C0), float(p0), float(amin0), float(amax0), float(C1), float(p1), float(amin1), float(amax1)]\n",
        "    p_pars = [float(x) for x in args]\n",
        "\n",
        "    # Update size_dist, self.component.size_dist (25,)\n",
        "    dustmodel.set_size_dist(p_pars)\n",
        "\n",
        "\n",
        "    # Values from model\n",
        "    model_values = dustmodel.eff_grain_props(obsdata)\n",
        "\n",
        "    model_fit = []\n",
        "\n",
        "    # extinction\n",
        "    model_fit = 1.086 * (model_values['cabs'] + model_values['csca'])\n",
        "\n",
        "    # Abundances\n",
        "    natoms         = model_values['natoms']\n",
        "    atomabund_mod  = []\n",
        "    for atomname, atomval in natoms.items():\n",
        "        atomabund_mod.append( atomval )\n",
        "\n",
        "    model_fit = np.concatenate( [model_fit, np.array(atomabund_mod)] )\n",
        "\n",
        "    # emission\n",
        "    model_fit = np.concatenate( [model_fit, model_values['emission']] )\n",
        "\n",
        "    # albedo\n",
        "    model_fit = np.concatenate( [model_fit, model_values['albedo']] )\n",
        "\n",
        "    # g=cos(theta)\n",
        "    model_fit = np.concatenate( [model_fit, model_values['g']] )\n",
        "\n",
        "    return model_fit"
      ],
      "execution_count": 13,
      "outputs": []
    },
    {
      "cell_type": "code",
      "metadata": {
        "id": "lY6ZtEoyCSFn",
        "colab": {
          "base_uri": "https://localhost:8080/"
        },
        "outputId": "07b2de9b-a47b-4a0f-d777-c43babaf6b33"
      },
      "source": [
        "# Setup the pm3 model\n",
        "with pm.Model() as model:\n",
        "\n",
        "    # Priors\n",
        "    prior_pars = {}\n",
        "    for name, val  in zip( pnames, p0 ):\n",
        "        # prior_pars[name] = pm.Uniform(name, lower=ps, upper=pf) # uniform prior\n",
        "        prior_pars[name] = pm.Normal(name, mu=val, sd=0.05*val)\n",
        "\n",
        "\n",
        "    # Expected value of outcome, a.k.a  the model\n",
        "    mu = model_fcn(*[ prior_pars[name] for name in pnames])\n",
        "\n",
        "    # Likelihood (sampling distribution) of observations\n",
        "    _ = pm.Normal('Y_obs', mu=mu, sd=yerr, observed=yobs)\n",
        "# end - with\n",
        "\n",
        "\n",
        "\n",
        "'''\n",
        " Setup the pm3 params for the fit\n",
        " n_sample : number of samples to take\n",
        " chains   : number of concurrent chains\n",
        " burn     : number of initial samples to burn\n",
        " thin     : multiple of samples to keep\n",
        "'''\n",
        "n_sample = 1000\n",
        "tune     = 1000\n",
        "\n",
        "chains   = 3\n",
        "burn     = int(0.1*n_sample)\n",
        "thin     = 5\n",
        "\n",
        "\n",
        "#>>>> Run the fit\n",
        "with model:\n",
        "    #start = pm.find_MAP()\n",
        "    #step =pm.NUTS()\n",
        "    start = {}\n",
        "    for k,v in zip(pnames, p0) :\n",
        "        start[k] = v\n",
        "    step = pm.Metropolis()\n",
        "\n",
        "with model:\n",
        "    trace = pm.sample(n_sample, step, start, chains=chains, tune=tune)\n",
        "#<<<<    "
      ],
      "execution_count": 14,
      "outputs": [
        {
          "output_type": "stream",
          "text": [
            "Sequential sampling (3 chains in 1 job)\n",
            "CompoundStep\n",
            ">Metropolis: [b_C1]\n",
            ">Metropolis: [a_cg1]\n",
            ">Metropolis: [beta_g1]\n",
            ">Metropolis: [alpha_g1]\n",
            ">Metropolis: [a_tg1]\n",
            ">Metropolis: [C_g1]\n",
            ">Metropolis: [beta_s0]\n",
            ">Metropolis: [alpha_s0]\n",
            ">Metropolis: [a_ts0]\n",
            ">Metropolis: [C_s0]\n",
            "100%|██████████| 2000/2000 [18:15<00:00,  1.83it/s]\n",
            "100%|██████████| 2000/2000 [18:12<00:00,  1.83it/s]\n",
            "100%|██████████| 2000/2000 [18:14<00:00,  1.83it/s]\n"
          ],
          "name": "stderr"
        }
      ]
    },
    {
      "cell_type": "code",
      "metadata": {
        "id": "oktHBnQKf9k8"
      },
      "source": [
        "tracefile = os.path.join(root_path, 'results', 'trace_WD01.pkl')\n",
        "with open(tracefile, 'wb') as f:\n",
        "  pickle.dump(trace, f)"
      ],
      "execution_count": 15,
      "outputs": []
    },
    {
      "cell_type": "code",
      "metadata": {
        "id": "jeabKkAZbixZ"
      },
      "source": [
        "# pm.traceplot(trace)\n",
        "# plt.show()"
      ],
      "execution_count": 16,
      "outputs": []
    },
    {
      "cell_type": "code",
      "metadata": {
        "id": "l_3Yuo74ggcC"
      },
      "source": [
        "# import arviz as az\n",
        "# v_waic = az.waic(trace)\n",
        "# print('\\nWAIC statistics...\\n', v_waic)"
      ],
      "execution_count": 17,
      "outputs": []
    },
    {
      "cell_type": "code",
      "metadata": {
        "id": "EHf0BpROO8DJ",
        "colab": {
          "base_uri": "https://localhost:8080/",
          "height": 151
        },
        "outputId": "f70e6a62-e47d-4102-a685-fa57a6a353e7"
      },
      "source": [
        "\n",
        "# Save the best fit params\n",
        "fit_params_best = []\n",
        "dat             = {}\n",
        "for par in pnames:\n",
        "    values = trace.get_values(par, burn=burn, thin=thin)\n",
        "    fit_params_best.append(values.mean(axis=0))\n",
        "\n",
        "    dat[par+'_mean'] = [values.mean(axis=0)]\n",
        "    dat[par+'_std']  = [values.std(axis=0)]\n",
        "\n",
        "\n",
        "# Mean and std of the params\n",
        "print('Mean and std of the params: ')\n",
        "print(dat)\n",
        "\n",
        "# Save the params to csv\n",
        "df = pd.DataFrame(data=dat)\n",
        "df.to_csv(index=False)\n",
        "df.head()"
      ],
      "execution_count": 18,
      "outputs": [
        {
          "output_type": "stream",
          "text": [
            "Mean and std of the params: \n",
            "{'C_s0_mean': [1.3300000000000002e-12], 'C_s0_std': [2.0194839173657902e-28], 'a_ts0_mean': [1710.0], 'a_ts0_std': [0.0], 'alpha_s0_mean': [-1.41], 'alpha_s0_std': [0.0], 'beta_s0_mean': [-11.5], 'beta_s0_std': [0.0], 'C_g1_mean': [4.1500000000000005e-11], 'C_g1_std': [6.462348535570529e-27], 'a_tg1_mean': [83.7], 'a_tg1_std': [0.0], 'alpha_g1_mean': [-1.9100000000000001], 'alpha_g1_std': [2.220446049250313e-16], 'beta_g1_mean': [-0.125], 'beta_g1_std': [0.0], 'a_cg1_mean': [4990.0], 'a_cg1_std': [0.0], 'b_C1_mean': [3.0000000000000004e-05], 'b_C1_std': [3.3881317890172014e-21]}\n"
          ],
          "name": "stdout"
        },
        {
          "output_type": "execute_result",
          "data": {
            "text/html": [
              "<div>\n",
              "<style scoped>\n",
              "    .dataframe tbody tr th:only-of-type {\n",
              "        vertical-align: middle;\n",
              "    }\n",
              "\n",
              "    .dataframe tbody tr th {\n",
              "        vertical-align: top;\n",
              "    }\n",
              "\n",
              "    .dataframe thead th {\n",
              "        text-align: right;\n",
              "    }\n",
              "</style>\n",
              "<table border=\"1\" class=\"dataframe\">\n",
              "  <thead>\n",
              "    <tr style=\"text-align: right;\">\n",
              "      <th></th>\n",
              "      <th>C_s0_mean</th>\n",
              "      <th>C_s0_std</th>\n",
              "      <th>a_ts0_mean</th>\n",
              "      <th>a_ts0_std</th>\n",
              "      <th>alpha_s0_mean</th>\n",
              "      <th>alpha_s0_std</th>\n",
              "      <th>beta_s0_mean</th>\n",
              "      <th>beta_s0_std</th>\n",
              "      <th>C_g1_mean</th>\n",
              "      <th>C_g1_std</th>\n",
              "      <th>a_tg1_mean</th>\n",
              "      <th>a_tg1_std</th>\n",
              "      <th>alpha_g1_mean</th>\n",
              "      <th>alpha_g1_std</th>\n",
              "      <th>beta_g1_mean</th>\n",
              "      <th>beta_g1_std</th>\n",
              "      <th>a_cg1_mean</th>\n",
              "      <th>a_cg1_std</th>\n",
              "      <th>b_C1_mean</th>\n",
              "      <th>b_C1_std</th>\n",
              "    </tr>\n",
              "  </thead>\n",
              "  <tbody>\n",
              "    <tr>\n",
              "      <th>0</th>\n",
              "      <td>1.330000e-12</td>\n",
              "      <td>2.019484e-28</td>\n",
              "      <td>1710.0</td>\n",
              "      <td>0.0</td>\n",
              "      <td>-1.41</td>\n",
              "      <td>0.0</td>\n",
              "      <td>-11.5</td>\n",
              "      <td>0.0</td>\n",
              "      <td>4.150000e-11</td>\n",
              "      <td>6.462349e-27</td>\n",
              "      <td>83.7</td>\n",
              "      <td>0.0</td>\n",
              "      <td>-1.91</td>\n",
              "      <td>2.220446e-16</td>\n",
              "      <td>-0.125</td>\n",
              "      <td>0.0</td>\n",
              "      <td>4990.0</td>\n",
              "      <td>0.0</td>\n",
              "      <td>0.00003</td>\n",
              "      <td>3.388132e-21</td>\n",
              "    </tr>\n",
              "  </tbody>\n",
              "</table>\n",
              "</div>"
            ],
            "text/plain": [
              "      C_s0_mean      C_s0_std  a_ts0_mean  ...  a_cg1_std  b_C1_mean      b_C1_std\n",
              "0  1.330000e-12  2.019484e-28      1710.0  ...        0.0    0.00003  3.388132e-21\n",
              "\n",
              "[1 rows x 20 columns]"
            ]
          },
          "metadata": {
            "tags": []
          },
          "execution_count": 18
        }
      ]
    },
    {
      "cell_type": "code",
      "metadata": {
        "id": "pTbVEwcvLLNr",
        "colab": {
          "base_uri": "https://localhost:8080/"
        },
        "outputId": "7dea2c4f-ab9c-4268-aa27-ffb9aea30fb0"
      },
      "source": [
        "# Save to pickle f\n",
        "filename = prefile +'_pymc3_' + str(n_sample) + '_' + str(burn) + '_b.pickle'\n",
        "dustmodel.save_best_results(filename, fit_params_best, obsdata)\n",
        "\n",
        "for xname,xval in zip(pnames, fit_params_best):\n",
        "  print('%s : %s'%(xname, xval) )"
      ],
      "execution_count": 19,
      "outputs": [
        {
          "output_type": "stream",
          "text": [
            "C_s0 : 1.3300000000000002e-12\n",
            "a_ts0 : 1710.0\n",
            "alpha_s0 : -1.41\n",
            "beta_s0 : -11.5\n",
            "C_g1 : 4.1500000000000005e-11\n",
            "a_tg1 : 83.7\n",
            "alpha_g1 : -1.9100000000000001\n",
            "beta_g1 : -0.125\n",
            "a_cg1 : 4990.0\n",
            "b_C1 : 3.0000000000000004e-05\n"
          ],
          "name": "stdout"
        }
      ]
    },
    {
      "cell_type": "code",
      "metadata": {
        "id": "oxG-MSMsFkIw"
      },
      "source": [
        "def get_krange(x, logaxis=False, in_range=[0]):\n",
        "\n",
        "    prange = np.array([0.0, 0.0])\n",
        "    if logaxis:\n",
        "        gindxs = x > 0\n",
        "        min_x = np.amin(x[gindxs])\n",
        "        max_x = np.amax(x[gindxs])\n",
        "    else:\n",
        "        min_x = np.amin(x)\n",
        "        max_x = np.amax(x)\n",
        "\n",
        "    if logaxis:\n",
        "        max_x = np.log10(max_x)\n",
        "        if min_x <= 0.0:\n",
        "            min_x = max_x - 10.0\n",
        "        else:\n",
        "            min_x = np.log10(min_x)\n",
        "\n",
        "    delta = max_x - min_x\n",
        "    prange[0] = min_x - 0.1 * delta\n",
        "    prange[1] = max_x + 0.1 * delta\n",
        "\n",
        "    if logaxis:\n",
        "        prange = np.power(10.0, prange)\n",
        "\n",
        "    if len(in_range) > 1:\n",
        "        prange[0] = np.minimum(prange[0], in_range[0])\n",
        "        prange[1] = np.maximum(prange[1], in_range[1])\n",
        "\n",
        "    return prange\n",
        "\n",
        "\n",
        "# plot the size distributions\n",
        "def plot_sizedist(ax, data, colors=['b', 'g'], fontsize=12, multa4=True, plegend=True, ltype='-', alpha=1.):\n",
        "\n",
        "    yrange = [0]\n",
        "    for i in range(data['n_components']):\n",
        "\n",
        "        xvals = data['sizes'][i] * 1.e4\n",
        "        yvals = data['size_dist'][i]\n",
        "\n",
        "        if multa4:\n",
        "            xvals4 = data['sizes'][i] ** 4\n",
        "            yvals = yvals * xvals4\n",
        "\n",
        "        yrange = get_krange(yvals, logaxis=True, in_range=yrange)\n",
        "\n",
        "        gindxs = yvals > 0\n",
        "\n",
        "        ax.plot(xvals[gindxs], yvals[gindxs], colors[i] + ltype, label=data['component_names'][i], alpha=alpha)\n",
        "\n",
        "    if multa4:\n",
        "        ylabel = r'$a^4 N_d(a)/N(H)$'\n",
        "        ylim   = (1.e-39, 1.e-27)\n",
        "    else:\n",
        "        ylabel = r'$N_d(a)/N(H)$'\n",
        "        ylim   = (1.e-30, 2.)\n",
        "\n",
        "    ax.set_xscale('log')\n",
        "    ax.set_yscale('log')\n",
        "    ax.set_xlim(get_krange(xvals, logaxis=True))\n",
        "    ax.set_ylim(ylim)\n",
        "    ax.set_xlabel(r'$a [\\mu m]$', fontsize=fontsize)\n",
        "    ax.set_ylabel(ylabel, fontsize=fontsize)\n",
        "    ax.legend()\n",
        "\n",
        "\n",
        "# plot the atomic abundances\n",
        "def plot_abundances(ax, data, obsdata, colors=['r', 'b', 'g'], fontsize=12):\n",
        "\n",
        "    # plot the dust abundances\n",
        "    atomnames = []\n",
        "    atomabund = []\n",
        "    for k,v in data['abundance'].items():\n",
        "        atomnames.append(k)\n",
        "        atomabund.append(v)\n",
        "\n",
        "    n_atoms   = len(atomnames)\n",
        "    aindxs    = np.arange(n_atoms)\n",
        "    width     = 0.5\n",
        "    ax.bar(aindxs + 0.75 * width, atomabund, width)\n",
        "\n",
        "    ax.errorbar(aindxs + 0.75 * width, [obsdata.abundance[x][0] for x in atomnames],\n",
        "                yerr=[obsdata.abundance[x][1] for x in atomnames],\n",
        "                fmt='ko', label='Observed')\n",
        "\n",
        "    ax.set_ylabel(r'$N(X)/[10^6 N(H)]$', fontsize=fontsize)\n",
        "    ax.set_xticks(aindxs + (0.75 * width))\n",
        "    ax.set_xticklabels(atomnames)\n",
        "\n",
        "\n",
        "# plot the extinction curves (total and components)\n",
        "def plot_extinction(ax, data, obsdata, colors=['r', 'b', 'g'], fontsize=12, comps=True, ltype='-'):\n",
        "\n",
        "    ax.plot(1./data['wavelengths'], data['ext'], colors[0] + ltype, label='Total')\n",
        "    yrange = get_krange(data['ext'], logaxis=True)\n",
        "    \n",
        "    if comps:\n",
        "        for i in range(data['n_components']):\n",
        "            ax.plot(1./data['wavelengths'], data['ext_components'][i], colors[i + 1] + ltype)\n",
        "            yrange = get_krange(data['ext_components'][i], logaxis=True, in_range=yrange)\n",
        "\n",
        "    ax.plot(1./obsdata.ext_lambda, obsdata.ext_AlNHI, 'k-', label='Observed')\n",
        "    yrange = get_krange(obsdata.ext_AlNHI, logaxis=True, in_range=yrange)\n",
        "\n",
        "    ax.set_xscale('log')\n",
        "    ax.set_yscale('log')\n",
        "    ax.set_xlabel(r'$\\lambda [\\mu m]$', fontsize=fontsize)\n",
        "    ax.set_ylabel(r'$A(\\lambda)/N(H)$', fontsize=fontsize)\n",
        "\n",
        "    ax.set_xlim(get_krange(1./data['wavelengths'], logaxis=True))\n",
        "    ax.set_ylim(yrange)\n",
        "    ax.legend()\n",
        "\n",
        "\n",
        "# plot the emission spectra (total and components)\n",
        "def plot_emission(ax, data, obsdata, colors=['r', 'b', 'g'], fontsize=12, comps=True, ltype='-'):\n",
        "    ax.plot(data['emission_wavelengths'], data['emission'], colors[0] + ltype)\n",
        "    yrange = get_krange(data['emission'], logaxis=True)\n",
        "    \n",
        "    if comps:\n",
        "        for i in range(data['n_components']):\n",
        "            ax.plot(data['emission_wavelengths'], data['emission_components'][i], colors[i + 1] + ltype)\n",
        "            yrange = get_krange(data['emission_components'][i], logaxis=True, in_range=yrange)\n",
        "\n",
        "    ax.errorbar( obsdata.emis_lambda, obsdata.spec_, yerr=obsdata.spec_err, fmt='ko', label='Observed')\n",
        "    yrange = get_krange(obsdata.spec_, logaxis=True, in_range=yrange)\n",
        "\n",
        "    ax.set_xscale('log')\n",
        "    ax.set_yscale('log')\n",
        "    ax.set_xlabel(r'$\\lambda [\\mu m]$', fontsize=fontsize)\n",
        "    ax.set_ylabel(r'$S$ $[MJy$ $sr^{-1}$ $N(H)^{-1}]$', fontsize=fontsize)\n",
        "\n",
        "    ax.set_xlim(get_krange(data['emission_wavelengths'], logaxis=True))\n",
        "    ax.set_ylim(yrange)\n",
        "    ax.legend()\n",
        "\n",
        "\n",
        "# plot the dust scattering albedo\n",
        "def plot_albedo(ax, data, obsdata, colors=['r', 'b', 'g'], fontsize=12, comps=True, ltype='-'):\n",
        "\n",
        "    ax.plot(data['albedo_wavelengths'], data['albedo'], colors[0] + ltype)\n",
        "    yrange = get_krange(data['albedo'])\n",
        "    if comps:\n",
        "        for i in range(data['n_components']):\n",
        "            ax.plot( data['albedo_wavelengths'], data['albedo_components'][i], colors[i + 1] + ltype)\n",
        "            yrange = get_krange(data['albedo_components'][i], in_range=yrange)\n",
        "\n",
        "    ax.errorbar(obsdata.scat_albedo_lambda, obsdata.scat_albedo, yerr=obsdata.scat_albedo_err, fmt='ko', label='Observed')\n",
        "    # yrange = get_krange(obsdata.scat_albedo, in_range=yrange)\n",
        "\n",
        "    ax.set_xscale('log')\n",
        "    ax.set_xlabel(r'$\\lambda [\\mu m]$', fontsize=fontsize)\n",
        "    ax.set_ylabel(r'$albedo$', fontsize=fontsize)\n",
        "\n",
        "    ax.set_xlim(get_krange(data['albedo_wavelengths'], logaxis=True))\n",
        "    ax.set_ylim([0., 1.])\n",
        "    # ax.set_ylim(yrange)"
      ],
      "execution_count": 20,
      "outputs": []
    },
    {
      "cell_type": "code",
      "metadata": {
        "id": "KPDMymjTFsr3",
        "colab": {
          "base_uri": "https://localhost:8080/",
          "height": 733
        },
        "outputId": "ec8175b2-6f5c-4d68-b7f6-ccd1690b6402"
      },
      "source": [
        "print(filename) # prefile +'_pymc3_' + str(n_sample) + '_' + str(burn) + '.pickle'\n",
        "\n",
        "# Read the results\n",
        "with open(filename, 'rb') as xfile:\n",
        "    result = pickle.load(xfile)\n",
        "\n",
        "\n",
        "# setup the plots\n",
        "fontsize = 16\n",
        "font = {\"size\": fontsize}\n",
        "\n",
        "matplotlib.rc(\"font\", **font)\n",
        "\n",
        "matplotlib.rc(\"lines\", linewidth=2)\n",
        "matplotlib.rc(\"axes\", linewidth=2)\n",
        "matplotlib.rc(\"xtick.major\", width=2)\n",
        "matplotlib.rc(\"ytick.major\", width=2)\n",
        "\n",
        "# Figure\n",
        "fig, ax = pyplot.subplots(ncols=3, nrows=2, figsize=(20, 10))\n",
        "\n",
        "# plot the dust size distributions\n",
        "colors = ['b', 'g']\n",
        "plot_sizedist(ax[0, 0], result, fontsize=fontsize, multa4=False)\n",
        "plot_sizedist(ax[0, 1], result, fontsize=fontsize, plegend=False)\n",
        "\n",
        "# plot the resulting total and component emission spectra\n",
        "plot_emission(ax[0, 2], result, obsdata, fontsize=fontsize)\n",
        "\n",
        "# plot the resulting total and component extinction curves\n",
        "plot_extinction(ax[1, 0], result, obsdata, fontsize=fontsize)\n",
        "\n",
        "# plot the resulting total and component emission spectra\n",
        "plot_albedo(ax[1, 1], result, obsdata, fontsize=fontsize)\n",
        "\n",
        "# plot the abundances\n",
        "plot_abundances(ax[1, 2], result, obsdata, fontsize=fontsize)\n",
        "\n",
        "pyplot.tight_layout()\n",
        "\n",
        "# show\n",
        "pyplot.show()"
      ],
      "execution_count": 21,
      "outputs": [
        {
          "output_type": "stream",
          "text": [
            "/content/gdrive/My Drive/Colab Notebooks/dustfit/results/WD_pymc3_1000_100_b.pickle\n"
          ],
          "name": "stdout"
        },
        {
          "output_type": "display_data",
          "data": {
            "image/png": "[encoded data removed]",
            "text/plain": [
              "<Figure size 1440x720 with 6 Axes>"
            ]
          },
          "metadata": {
            "tags": [],
            "needs_background": "light"
          }
        }
      ]
    }
  ]
}